{
  "nbformat": 4,
  "nbformat_minor": 0,
  "metadata": {
    "colab": {
      "provenance": []
    },
    "kernelspec": {
      "name": "python3",
      "display_name": "Python 3"
    },
    "language_info": {
      "name": "python"
    }
  },
  "cells": [
    {
      "cell_type": "code",
      "execution_count": null,
      "metadata": {
        "id": "J7bjhN-ACYlA"
      },
      "outputs": [],
      "source": [
        "# Daftar harga minuman\n",
        "harga_minuman = {\n",
        "    'Coca Cola': 5000,\n",
        "    'Pepsi': 4500,\n",
        "    'Fanta': 4000,\n",
        "    'Sprite': 3500,\n",
        "    'Air Mineral': 2000\n",
        "}\n",
        "\n",
        "# Saldo awal pengguna\n",
        "saldo = 0\n",
        "\n",
        "# Fungsi untuk menampilkan daftar harga\n",
        "def tampilkan_daftar_harga():\n",
        "    print('Daftar Harga Minuman:')\n",
        "    for minuman, harga in harga_minuman.items():\n",
        "        print(f'{minuman}: Rp {harga}')\n",
        "\n",
        "# Fungsi untuk memproses pembelian\n",
        "def proses_pembelian(pilihan):\n",
        "    global saldo\n",
        "    if pilihan in harga_minuman:\n",
        "        if saldo >= harga_minuman[pilihan]:\n",
        "            saldo -= harga_minuman[pilihan]\n",
        "            print(f'Anda membeli {pilihan}.')\n",
        "            print(f'Sisa saldo: Rp {saldo}')\n",
        "        else:\n",
        "            print('Maaf, saldo Anda tidak cukup.')\n",
        "    else:\n",
        "        print('Pilihan tidak valid.')\n",
        "\n",
        "# Loop utama\n",
        "while True:\n",
        "    print('=== Mesin Penjual Otomatis ===')\n",
        "    print(f'Saldo Anda: Rp {saldo}')\n",
        "    tampilkan_daftar_harga()\n",
        "    print('Pilih minuman (ketik \"keluar\" untuk keluar):')\n",
        "    pilihan = input()\n",
        "    if pilihan.lower() == 'keluar':\n",
        "        break\n",
        "    proses_pembelian(pilihan)\n",
        "\n",
        "    # Meminta pengguna untuk memasukkan uang\n",
        "    if saldo == 0:\n",
        "        print('Masukkan uang Anda (ketik \"selesai\" untuk selesai):')\n",
        "    else:\n",
        "        print('Masukkan uang tambahan (ketik \"selesai\" untuk selesai):')\n",
        "    while True:\n",
        "        uang = input()\n",
        "        if uang.lower() == 'selesai':\n",
        "            break\n",
        "        elif uang.isdigit():\n",
        "            saldo += int(uang)\n",
        "        else:\n",
        "            print('Masukkan jumlah uang yang valid (angka) atau ketik \"selesai\" untuk selesai.')\n",
        "\n",
        "print('Terima kasih telah menggunakan Mesin Penjual Otomatis!')"
      ]
    }
  ]
}