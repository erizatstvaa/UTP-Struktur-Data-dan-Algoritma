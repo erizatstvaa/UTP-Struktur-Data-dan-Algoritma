{
  "nbformat": 4,
  "nbformat_minor": 0,
  "metadata": {
    "colab": {
      "provenance": []
    },
    "kernelspec": {
      "name": "python3",
      "display_name": "Python 3"
    },
    "language_info": {
      "name": "python"
    }
  },
  "cells": [
    {
      "cell_type": "code",
      "execution_count": null,
      "metadata": {
        "id": "YnKPVE8T3fJg"
      },
      "outputs": [],
      "source": [
        "# Fungsi untuk memproses pembelian\n",
        "def proses_pembelian(pilihan):\n",
        "    global saldo\n",
        "    if pilihan in harga_minuman:\n",
        "        if saldo >= harga_minuman[pilihan]:\n",
        "            saldo -= harga_minuman[pilihan]\n",
        "            print(f'Anda membeli {pilihan}.')\n",
        "            print(f'Sisa saldo: Rp {saldo}')\n",
        "        else:\n",
        "            print('Maaf, saldo Anda tidak cukup.')\n",
        "    else:\n",
        "        print('Pilihan tidak valid.')"
      ]
    }
  ]
}