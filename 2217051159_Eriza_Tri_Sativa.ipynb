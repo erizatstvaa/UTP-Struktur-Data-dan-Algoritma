{
  "nbformat": 4,
  "nbformat_minor": 0,
  "metadata": {
    "colab": {
      "provenance": []
    },
    "kernelspec": {
      "name": "python3",
      "display_name": "Python 3"
    },
    "language_info": {
      "name": "python"
    }
  },
  "cells": [
    {
      "cell_type": "code",
      "execution_count": null,
      "metadata": {
        "id": "44TMhOt611cV"
      },
      "outputs": [],
      "source": [
        "# Daftar harga minuman\n",
        "harga_minuman = {\n",
        "    'Coca Cola': 5000,\n",
        "    'Pepsi': 4500,\n",
        "    'Fanta': 4000,\n",
        "    'Sprite': 3500,\n",
        "    'Air Mineral': 2000\n",
        "}\n",
        "\n",
        "# Saldo awal pengguna\n",
        "saldo = 0\n",
        "\n",
        "# Fungsi untuk menampilkan daftar harga\n",
        "def tampilkan_daftar_harga():\n",
        "    print('Daftar Harga Minuman:')\n",
        "    for minuman, harga in harga_minuman.items():\n",
        "        print(f'{minuman}: Rp {harga}')"
      ]
    }
  ]
}