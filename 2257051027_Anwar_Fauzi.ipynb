{
  "nbformat": 4,
  "nbformat_minor": 0,
  "metadata": {
    "colab": {
      "provenance": []
    },
    "kernelspec": {
      "name": "python3",
      "display_name": "Python 3"
    },
    "language_info": {
      "name": "python"
    }
  },
  "cells": [
    {
      "cell_type": "code",
      "execution_count": null,
      "metadata": {
        "id": "gbcdj25k3lyj"
      },
      "outputs": [],
      "source": [
        "# Loop utama\n",
        "while True:\n",
        "    print('=== Mesin Penjual Otomatis ===')\n",
        "    print(f'Saldo Anda: Rp {saldo}')\n",
        "    tampilkan_daftar_harga()\n",
        "    print('Pilih minuman (ketik \"keluar\" untuk keluar):')\n",
        "    pilihan = input()\n",
        "    if pilihan.lower() == 'keluar':\n",
        "        break\n",
        "    proses_pembelian(pilihan)\n",
        "\n",
        "    # Meminta pengguna untuk memasukkan uang\n",
        "    if saldo == 0:\n",
        "        print('Masukkan uang Anda (ketik \"selesai\" untuk selesai):')\n",
        "    else:\n",
        "        print('Masukkan uang tambahan (ketik \"selesai\" untuk selesai):')\n",
        "    while True:\n",
        "        uang = input()\n",
        "        if uang.lower() == 'selesai':\n",
        "            break\n",
        "        elif uang.isdigit():\n",
        "            saldo += int(uang)\n",
        "        else:\n",
        "            print('Masukkan jumlah uang yang valid (angka) atau ketik \"selesai\" untuk selesai.')\n",
        "\n",
        "print('Terima kasih telah menggunakan Mesin Penjual Otomatis!')"
      ]
    }
  ]
}